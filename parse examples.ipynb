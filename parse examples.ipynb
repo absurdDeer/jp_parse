{
  "nbformat": 4,
  "nbformat_minor": 0,
  "metadata": {
    "colab": {
      "provenance": []
    },
    "kernelspec": {
      "name": "python3",
      "display_name": "Python 3"
    },
    "language_info": {
      "name": "python"
    }
  },
  "cells": [
    {
      "cell_type": "code",
      "execution_count": null,
      "metadata": {
        "id": "SpAcoQ0D3nD6"
      },
      "outputs": [],
      "source": [
        "import pandas as pd\n",
        "import re\n",
        "\n",
        "kanji_uni = r'[㐀-䶵一-鿋豈-頻]'\n",
        "\n",
        "def extract_unicode_block(unicode_block, string):\n",
        "    return re.findall( unicode_block, string)"
      ]
    },
    {
      "cell_type": "code",
      "source": [
        "s = \"食べる\"\n",
        "arr = extract_unicode_block(kanji_uni, s)\n",
        "\n",
        "print(arr)"
      ],
      "metadata": {
        "id": "dvka81BY3xqa",
        "colab": {
          "base_uri": "https://localhost:8080/"
        },
        "outputId": "9dbb557a-baa9-442e-88d1-b1e01448bf88"
      },
      "execution_count": 3,
      "outputs": [
        {
          "output_type": "stream",
          "name": "stdout",
          "text": [
            "['食']\n"
          ]
        }
      ]
    },
    {
      "cell_type": "code",
      "source": [
        "# https://stackoverflow.com/questions/30069846/how-to-find-out-chinese-or-japanese-character-in-a-string-in-python\n",
        "\n",
        "ranges = [\n",
        "  {\"from\": ord(u\"\\u3300\"), \"to\": ord(u\"\\u33ff\")},         # compatibility ideographs\n",
        "  {\"from\": ord(u\"\\ufe30\"), \"to\": ord(u\"\\ufe4f\")},         # compatibility ideographs\n",
        "  {\"from\": ord(u\"\\uf900\"), \"to\": ord(u\"\\ufaff\")},         # compatibility ideographs\n",
        "  {\"from\": ord(u\"\\U0002F800\"), \"to\": ord(u\"\\U0002fa1f\")}, # compatibility ideographs\n",
        "  {'from': ord(u'\\u3040'), 'to': ord(u'\\u309f')},         # Japanese Hiragana\n",
        "  {\"from\": ord(u\"\\u30a0\"), \"to\": ord(u\"\\u30ff\")},         # Japanese Katakana\n",
        "  {\"from\": ord(u\"\\u2e80\"), \"to\": ord(u\"\\u2eff\")},         # cjk radicals supplement\n",
        "  {\"from\": ord(u\"\\u4e00\"), \"to\": ord(u\"\\u9fff\")},\n",
        "  {\"from\": ord(u\"\\u3400\"), \"to\": ord(u\"\\u4dbf\")},\n",
        "  {\"from\": ord(u\"\\U00020000\"), \"to\": ord(u\"\\U0002a6df\")},\n",
        "  {\"from\": ord(u\"\\U0002a700\"), \"to\": ord(u\"\\U0002b73f\")},\n",
        "  {\"from\": ord(u\"\\U0002b740\"), \"to\": ord(u\"\\U0002b81f\")},\n",
        "  {\"from\": ord(u\"\\U0002b820\"), \"to\": ord(u\"\\U0002ceaf\")}  # included as of Unicode 8.0\n",
        "]\n",
        "\n",
        "def is_cjk(char):\n",
        "  return any([range[\"from\"] <= ord(char) <= range[\"to\"] for range in ranges])\n",
        "\n",
        "def cjk_substrings(string):\n",
        "  i = 0\n",
        "  while i<len(string):\n",
        "    if is_cjk(string[i]):\n",
        "      start = i\n",
        "      while is_cjk(string[i]): i += 1\n",
        "      yield string[start:i]\n",
        "    i += 1\n",
        "\n",
        "string = \"sdf3あ6いうえお44asfasf天地方益3権sdfsdf\"\n",
        "for sub in cjk_substrings(string):\n",
        "  string = string.replace(sub, \"(\" + sub + \")\")\n",
        "\n",
        "print(string)"
      ],
      "metadata": {
        "colab": {
          "base_uri": "https://localhost:8080/"
        },
        "id": "UcoIcxlq4YaF",
        "outputId": "a466ceb4-1445-4820-e7a5-00d381b9cb97"
      },
      "execution_count": 9,
      "outputs": [
        {
          "output_type": "stream",
          "name": "stdout",
          "text": [
            "sdf3(あ)6(いうえお)44asfasf(天地方益)3(権)sdfsdf\n"
          ]
        }
      ]
    },
    {
      "cell_type": "markdown",
      "source": [
        ""
      ],
      "metadata": {
        "id": "QlaFpsK15vVW"
      }
    },
    {
      "cell_type": "code",
      "source": [
        "# https://stackoverflow.com/questions/33338713/filtering-out-all-non-kanji-characters-in-a-text-with-python-3\n",
        "\n",
        "# -*- coding: utf-8 -*-\n",
        "import re\n",
        "\n",
        "''' This is a library of functions and variables that are helpful to have handy\n",
        "    when manipulating Japanese text in python.\n",
        "    This is optimized for Python 3.x, and takes advantage of the fact that all strings are unicode.\n",
        "    Copyright (c) 2014-2015, Mads Sørensen Ølsgaard\n",
        "    All rights reserved.\n",
        "    Released under BSD3 License, see http://opensource.org/licenses/BSD-3-Clause or license.txt '''\n",
        "\n",
        "\n",
        "\n",
        "\n",
        "## UNICODE BLOCKS ##\n",
        "\n",
        "# Regular expression unicode blocks collected from\n",
        "# http://www.localizingjapan.com/blog/2012/01/20/regular-expressions-for-japanese-text/\n",
        "\n",
        "hiragana_full = r'[ぁ-ゟ]'\n",
        "katakana_full = r'[゠-ヿ]'\n",
        "kanji = r'[㐀-䶵一-鿋豈-頻]'\n",
        "radicals = r'[⺀-⿕]'\n",
        "katakana_half_width = r'[｟-ﾟ]'\n",
        "alphanum_full = r'[！-～]'\n",
        "symbols_punct = r'[、-〿]'\n",
        "misc_symbols = r'[ㇰ-ㇿ㈠-㉃㊀-㋾㌀-㍿]'\n",
        "ascii_char = r'[ -~]'\n",
        "\n",
        "## FUNCTIONS ##\n",
        "\n",
        "def extract_unicode_block(unicode_block, string):\n",
        "    ''' extracts and returns all texts from a unicode block from string argument.\n",
        "        Note that you must use the unicode blocks defined above, or patterns of similar form '''\n",
        "    return re.findall( unicode_block, string)\n",
        "\n",
        "def remove_unicode_block(unicode_block, string):\n",
        "    ''' removes all chaacters from a unicode block and returns all remaining texts from string argument.\n",
        "        Note that you must use the unicode blocks defined above, or patterns of similar form '''\n",
        "    return re.sub( unicode_block, '', string)\n",
        "\n",
        "## EXAMPLES ##\n",
        "\n",
        "text = '初めての駅 自由が丘の駅で、大井町線から降りると、ママは、トットちゃんの手を引っ張って、改札口を出ようとした。ぁゟ゠ヿ㐀䶵一鿋豈頻⺀⿕｟ﾟabc！～、〿ㇰㇿ㈠㉃㊀㋾㌀㍿'\n",
        "\n",
        "print('Original text string:', text, '\\n')\n",
        "print('All kanji removed:', remove_unicode_block(kanji, text))\n",
        "print('All hiragana in text:', ''.join(extract_unicode_block(hiragana_full, text)))"
      ],
      "metadata": {
        "colab": {
          "base_uri": "https://localhost:8080/"
        },
        "id": "5zvoC-XN4-ny",
        "outputId": "b7098b5c-33ba-4858-9caf-6d74ce1055fb"
      },
      "execution_count": 8,
      "outputs": [
        {
          "output_type": "stream",
          "name": "stdout",
          "text": [
            "Original text string: 初めての駅 自由が丘の駅で、大井町線から降りると、ママは、トットちゃんの手を引っ張って、改札口を出ようとした。ぁゟ゠ヿ㐀䶵一鿋豈頻⺀⿕｟ﾟabc！～、〿ㇰㇿ㈠㉃㊀㋾㌀㍿ \n",
            "\n",
            "All kanji removed: めての がので、からりると、ママは、トットちゃんのをっって、をようとした。ぁゟ゠ヿ⺀⿕｟ﾟabc！～、〿ㇰㇿ㈠㉃㊀㋾㌀㍿\n",
            "All hiragana in text: めてのがのでからりるとはちゃんのをっってをようとしたぁゟ\n"
          ]
        }
      ]
    }
  ]
}
